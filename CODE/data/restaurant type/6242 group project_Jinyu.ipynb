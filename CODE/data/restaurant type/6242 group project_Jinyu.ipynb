{
 "cells": [
  {
   "cell_type": "code",
   "execution_count": 12,
   "metadata": {},
   "outputs": [],
   "source": [
    "from nltk.metrics import distance\n",
    "import scipy.spatial as spatial\n",
    "import numpy as np\n",
    "from scipy.cluster.vq import kmeans\n",
    "import json\n",
    "import csv\n",
    "with open('business_data.json', 'r') as f:\n",
    "     data = json.load(f)"
   ]
  },
  {
   "cell_type": "code",
   "execution_count": 13,
   "metadata": {},
   "outputs": [
    {
     "data": {
      "text/plain": [
       "2356"
      ]
     },
     "execution_count": 13,
     "metadata": {},
     "output_type": "execute_result"
    }
   ],
   "source": [
    "len(data)"
   ]
  },
  {
   "cell_type": "code",
   "execution_count": 14,
   "metadata": {},
   "outputs": [
    {
     "name": "stdout",
     "output_type": "stream",
     "text": [
      "147\n"
     ]
    }
   ],
   "source": [
    "aliases = []\n",
    "titles = []\n",
    "for key in data:\n",
    "    aliases.append(data[key][\"categories\"][0][\"alias\"] )\n",
    "    titles.append(data[key][\"categories\"][0][\"title\"])\n",
    "uni_alias = set(aliases)\n",
    "uni_title = set(titles)\n",
    "print(len(uni_alias))\n",
    "#print(len(uni_title))\n",
    "#print(uni_alias)\n",
    "#print(uni_title)"
   ]
  },
  {
   "cell_type": "code",
   "execution_count": 15,
   "metadata": {},
   "outputs": [
    {
     "name": "stdout",
     "output_type": "stream",
     "text": [
      "k = 0\n",
      "['fondue', 'butcher', 'turkish', 'waffles', 'coffee', 'french', 'burgers', 'noodles', 'raw_food', 'hotpot', 'kosher', 'british', 'shopping', 'grocery', 'bowling', 'hotdog', 'southern', 'soulfood', 'seafood', 'buffets', 'donuts', 'hotdogs', 'lounges', 'gourmet', 'chinese', 'dimsum', 'tex-mex']\n",
      "k = 1\n",
      "['sportsbars', 'mideastern', 'bubbletea', 'cheesesteaks', 'food_court', 'foodtrucks', 'chickenshop', 'sandwiches', 'puertorican', 'convenience', 'scandinavian', 'themedcafes', 'tradamerican', 'musicvenues', 'hookah_bars', 'cocktailbars', 'danceclubs', 'gastropubs', 'comfortfood', 'portuguese', 'irish_pubs', 'restaurants', 'asianfusion', 'foodstands', 'gluten_free', 'newamerican', 'newmexican', 'customcakes', 'venezuelan', 'fishnchips', 'vietnamese', 'beergardens']\n",
      "k = 2\n",
      "['cupcakes', 'pancakes', 'japanese', 'poolhalls', 'galleries', 'cafeteria', 'arcades', 'desserts', 'breweries', 'divebars', 'wine_bars', 'taiwanese', 'beerbar', 'catering', 'cantonese', 'cigarbars', 'festivals', 'juicebars', 'brasseries', 'icecream', 'gaybars', 'brewpubs', 'lebanese', 'bakeries', 'creperies']\n",
      "k = 3\n",
      "['vegan', 'pubs', 'poke', 'steak', 'indpak', 'venues', 'diners', 'german', 'cheese', 'cuban', 'soup', 'bbq', 'cajun', 'meats', 'thai', 'sushi', 'bars', 'delis', 'irish', 'greek', 'halal', 'spanish', 'tapas', 'latin', 'ramen', 'cafes', 'salad', 'bagels', 'pizza', 'tacos', 'wraps', 'korean']\n",
      "k = 4\n",
      "['streetvendors', 'modern_european', 'seafoodmarkets', 'chicken_wings', 'tapasmallplates', 'breakfast_brunch', 'mediterranean', 'movietheaters', 'dinnertheater', 'fooddeliveryservices', 'farmersmarket', 'popuprestaurants']\n",
      "k = 5\n",
      "['moroccan', 'brazilian', 'malaysian', 'persian', 'african', 'indonesian', 'peruvian', 'dominican', 'panasian', 'ethiopian', 'vegetarian', 'laotian', 'colombian', 'mexican', 'italian', 'hawaiian', 'szechuan', 'caribbean', 'himalayan']\n"
     ]
    }
   ],
   "source": [
    "words = list(uni_alias)\n",
    "\n",
    "# similarity matrix\n",
    "word_vectors = np.array([\n",
    "    [\n",
    "        distance.edit_distance(w, _w)\n",
    "        for _w in words\n",
    "    ]\n",
    "    for w in words\n",
    "], dtype=np.float)\n",
    "\n",
    "centroids, _ = kmeans(word_vectors, k_or_guess=6)\n",
    "\n",
    "word_clusters = np.argmin([\n",
    "    [spatial.distance.euclidean(wv, cv) for cv in centroids]\n",
    "    for wv in word_vectors\n",
    "], 1)\n",
    "\n",
    "for k in range(centroids.shape[0]):\n",
    "    print('k =', k)\n",
    "    print([word for i, word in enumerate(words) if word_clusters[i] == k])"
   ]
  },
  {
   "cell_type": "code",
   "execution_count": 16,
   "metadata": {},
   "outputs": [],
   "source": [
    "with open('retaurant_type.csv', mode='r') as csv_file:\n",
    "    csv_reader = csv.DictReader(csv_file)\n",
    "    type_dict = {}\n",
    "    for row in csv_reader:\n",
    "        type_dict[row[\"Original\"]] = row[\"type\"]\n",
    "#type_dict      "
   ]
  },
  {
   "cell_type": "code",
   "execution_count": 17,
   "metadata": {},
   "outputs": [],
   "source": [
    "for key in data:\n",
    "    data[key][\"type\"] = type_dict[data[key][\"categories\"][0][\"alias\"]]"
   ]
  },
  {
   "cell_type": "code",
   "execution_count": 18,
   "metadata": {},
   "outputs": [],
   "source": [
    "#data"
   ]
  },
  {
   "cell_type": "code",
   "execution_count": 19,
   "metadata": {},
   "outputs": [],
   "source": [
    "type_size = {}\n",
    "for key in data:\n",
    "    if data[key]['type'] in type_size:\n",
    "        type_size[data[key]['type']] += 1\n",
    "    else:\n",
    "        type_size[data[key]['type']] = 1\n",
    "#type_size"
   ]
  },
  {
   "cell_type": "code",
   "execution_count": 20,
   "metadata": {},
   "outputs": [
    {
     "name": "stdout",
     "output_type": "stream",
     "text": [
      "24\n"
     ]
    }
   ],
   "source": [
    "print(len(type_size))"
   ]
  },
  {
   "cell_type": "code",
   "execution_count": 21,
   "metadata": {},
   "outputs": [],
   "source": [
    "with open('restaurant_atl.json', 'w') as fp:\n",
    "    json.dump(data, fp)"
   ]
  },
  {
   "cell_type": "code",
   "execution_count": 22,
   "metadata": {},
   "outputs": [
    {
     "data": {
      "text/plain": [
       "{'american': 374,\n",
       " 'fastfood': 586,\n",
       " 'asian': 310,\n",
       " 'bar': 140,\n",
       " 'mexican': 146,\n",
       " 'european': 119,\n",
       " 'breakfast': 77,\n",
       " 'meat': 164,\n",
       " 'mideastern': 15,\n",
       " 'comfort': 12,\n",
       " 'specificDiet': 30,\n",
       " 'mediterranean': 46,\n",
       " 'salad': 34,\n",
       " 'cafe': 121,\n",
       " 'foodmarket': 14,\n",
       " 'entertainment': 4,\n",
       " 'caribbean': 52,\n",
       " 'bakery': 36,\n",
       " 'african': 13,\n",
       " 'art': 5,\n",
       " 'festival': 5,\n",
       " 'buffet': 8,\n",
       " 'others': 40,\n",
       " 'convenience': 5}"
      ]
     },
     "execution_count": 22,
     "metadata": {},
     "output_type": "execute_result"
    }
   ],
   "source": [
    "type_size\n"
   ]
  },
  {
   "cell_type": "code",
   "execution_count": null,
   "metadata": {},
   "outputs": [],
   "source": []
  }
 ],
 "metadata": {
  "kernelspec": {
   "display_name": "Python 3",
   "language": "python",
   "name": "python3"
  },
  "language_info": {
   "codemirror_mode": {
    "name": "ipython",
    "version": 3
   },
   "file_extension": ".py",
   "mimetype": "text/x-python",
   "name": "python",
   "nbconvert_exporter": "python",
   "pygments_lexer": "ipython3",
   "version": "3.7.4"
  }
 },
 "nbformat": 4,
 "nbformat_minor": 2
}
