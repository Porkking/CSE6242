{
 "cells": [
  {
   "cell_type": "code",
   "execution_count": 1,
   "metadata": {},
   "outputs": [],
   "source": [
    "from fake_useragent import UserAgent\n",
    "import time\n",
    "import random\n",
    "import requests\n",
    "import re\n",
    "from bs4 import BeautifulSoup\n",
    "import pandas as pd\n",
    "import csv\n",
    "import json"
   ]
  },
  {
   "cell_type": "markdown",
   "metadata": {},
   "source": [
    "### Get total number of pages"
   ]
  },
  {
   "cell_type": "code",
   "execution_count": 2,
   "metadata": {},
   "outputs": [],
   "source": [
    "def get_total_pages(url):\n",
    "    try:\n",
    "        html_text = requests.get(url,headers={'User-Agent': ua.random}).text\n",
    "        bs1 = BeautifulSoup(html_text)\n",
    "        temp = bs1.find(\"div\",{'class':\"lemon--div__373c0__1mboc padding-b2__373c0__34gV1 border-color--default__373c0__3-ifU text-align--center__373c0__2n2yQ\"})\n",
    "        temp_text = temp.find('span',{'class':\"lemon--span__373c0__3997G text__373c0__2Kxyz text-color--black-extra-light__373c0__2OyzO text-align--left__373c0__2XGa-\"}).text\n",
    "        total_pages = int(temp_text.split(\" \")[-1])\n",
    "        return total_pages\n",
    "    except Exception:\n",
    "        return -1"
   ]
  },
  {
   "cell_type": "code",
   "execution_count": 3,
   "metadata": {},
   "outputs": [],
   "source": [
    "def get_shop_list(url):\n",
    "    url = 'https://www.yelp.com/search?find_desc=Restaurants&find_loc=Atlanta%2C+GA%2C+United+States&ns=1'\n",
    "    total_pages = get_total_pages(url)\n",
    "    df = pd.DataFrame(columns=[\"biz_name\",\"biz_url\"]) \n",
    "    for i in range(0,total_pages):\n",
    "        page_url = url + \"&start={}\".format(i * 30)\n",
    "        page_text = requests.get(page_url,headers={'User-Agent': ua.random}).text\n",
    "        page_bs = BeautifulSoup(page_text)\n",
    "        count = 0\n",
    "        for j in page_bs.find_all('a',{'class':\"lemon--a__373c0__IEZFH link__373c0__1G70M link-color--inherit__373c0__3dzpk link-size--inherit__373c0__1VFlE\"},href=re.compile('/biz/')):\n",
    "            count = count + 1\n",
    "            link = \"https://www.yelp.com\" + j.get(\"href\")\n",
    "            bizname = j.get(\"name\")\n",
    "            biz_index = i * 30 + count\n",
    "            df.loc[biz_index] = [bizname,link]\n",
    "    return df\n",
    "        \n"
   ]
  },
  {
   "cell_type": "code",
   "execution_count": 4,
   "metadata": {},
   "outputs": [],
   "source": [
    "df = get_shop_list('https://www.yelp.com/search?find_desc=Restaurants&find_loc=Atlanta%2C+GA%2C+United+States&ns=1')\n",
    "df.to_csv(\"shoplink2.csv\",header=False,index=True)\n"
   ]
  },
  {
   "cell_type": "markdown",
   "metadata": {},
   "source": [
    "### Total Page of reviews"
   ]
  },
  {
   "cell_type": "code",
   "execution_count": 6,
   "metadata": {},
   "outputs": [],
   "source": [
    "def get_total_page_reviews(url):\n",
    "    try:\n",
    "        ua = UserAgent()\n",
    "        html_text = requests.get(url,headers={'User-Agent': ua.random}).text\n",
    "        bs = BeautifulSoup(html_text)\n",
    "        temp = bs.find(\"div\",{\"class\":\"lemon--div__373c0__1mboc pagination__373c0__1NjN5 u-padding-t2 border--bottom__373c0__uPbXS border-color--default__373c0__2oFDT\"})\n",
    "        total_page_reviews = temp.find(\"span\",{\"class\":\"lemon--span__373c0__3997G text__373c0__2pB8f text-color--inherit__373c0__w_15m text-align--left__373c0__2pnx_\"})\n",
    "        total_page_reviews = str(total_page_reviews.text).split(\" \")[-1]\n",
    "        return int(total_page_reviews)\n",
    "    except Exception:\n",
    "        return -1"
   ]
  },
  {
   "cell_type": "code",
   "execution_count": 7,
   "metadata": {},
   "outputs": [],
   "source": [
    "def get_reviews(re_url,count_i):\n",
    "    ua = UserAgent()\n",
    "    total_page_reviews = get_total_page_reviews(re_url)\n",
    "    review_info = pd.DataFrame(columns=[\"biz_id\",\"biz_url\",\"user_id\",\"user_name\",\"friends\",\"number_reviews\",\"photos\",\"area\",\"date\",\"elite\",\"rating\"])\n",
    "    html_text = requests.get(re_url,headers={'User-Agent': ua.random}).text\n",
    "    bs = BeautifulSoup(html_text)\n",
    "    temp = bs.find(\"head\")\n",
    "    z = temp.find(\"meta\", attrs={'name':'yelp-biz-id'})\n",
    "    biz_id = z['content']\n",
    "    count = count_i\n",
    "    for ii in range(0,total_page_reviews):\n",
    "        page_url = re_url + \"&start={}\".format(ii * 20)\n",
    "        page_text = requests.get(page_url,headers={'User-Agent': ua.random}).text\n",
    "        page_bs = BeautifulSoup(page_text)\n",
    "        container = page_bs.find_all(\"li\",{\"class\":\"lemon--li__373c0__1r9wz u-space-b3 u-padding-b3 border--bottom__373c0__uPbXS border-color--default__373c0__2oFDT\"})\n",
    "        for i in container:\n",
    "            user_info =  i.find(\"a\",{\"class\":\"lemon--a__373c0__IEZFH link__373c0__29943 link-color--inherit__373c0__15ymx link-size--inherit__373c0__2JXk5\"},href=re.compile(\"^/user_details\"))\n",
    "            user_name = user_info.text\n",
    "            user_id = str(user_info.get(\"href\")).split(\"=\")[-1]\n",
    "            # get tthe attributes of user\n",
    "            friends = photos = number_reviews = None\n",
    "            for index,j in enumerate(i.find_all(\"span\",{\"class\":\"lemon--span__373c0__3997G text__373c0__2pB8f text-color--normal__373c0__K_MKN text-align--left__373c0__2pnx_ text-size--small__373c0__3SGMi\"})):\n",
    "                if index == 0:\n",
    "                    friends = j.text\n",
    "                elif index == 1:\n",
    "                    number_reviews = j.text\n",
    "                elif index == 2:\n",
    "                    photos = j.text\n",
    "\n",
    "            # get the area\n",
    "            area = None\n",
    "            for index,j in enumerate(i.find_all(\"span\",{\"class\":\"lemon--span__373c0__3997G text__373c0__2pB8f text-color--normal__373c0__K_MKN text-align--left__373c0__2pnx_ text-weight--bold__373c0__3HYJa text-size--small__373c0__3SGMi\"})):\n",
    "                area = j.text\n",
    "\n",
    "            # get the date\n",
    "            date_posted = None\n",
    "            date_posted = i.find(\"span\",{\"class\":\"lemon--span__373c0__3997G text__373c0__2pB8f text-color--mid__373c0__3G312 text-align--left__373c0__2pnx_\"})\n",
    "            if date_posted != None:\n",
    "                date = date_posted.text\n",
    "\n",
    "            # get rating\n",
    "            rating = None\n",
    "            temp_rating = i.find(\"span\",{\"class\":\"lemon--span__373c0__3997G display--inline__373c0__3JgLR border-color--default__373c0__MD4Lj\"})\n",
    "            if temp_rating != None:\n",
    "                rating = temp_rating.find(name=\"div\",attrs={\"aria-label\":True}).get(\"aria-label\")[0]\n",
    "\n",
    "            # elite or not\n",
    "            elite = None\n",
    "            temp_elite = i.find(\"p\",{\"class\":\"lemon--p__373c0__3Qnnj text__373c0__2pB8f text-color--inherit__373c0__w_15m text-align--left__373c0__2pnx_ text-size--inherit__373c0__2gFQ3\"})\n",
    "            if temp_elite != None:\n",
    "                elite = temp_elite.text\n",
    "            \n",
    "            review_info.loc[count] = [biz_id,re_url,user_id,user_name,friends,number_reviews,photos,area,date,elite,rating]\n",
    "            count = count + 1\n",
    "            time.sleep(random.random()+1)\n",
    "    return review_info,count"
   ]
  },
  {
   "cell_type": "code",
   "execution_count": 8,
   "metadata": {},
   "outputs": [
    {
     "name": "stdout",
     "output_type": "stream",
     "text": [
      "https://www.yelp.com/biz/two-urban-licks-atlanta?osq=Restaurants\n"
     ]
    },
    {
     "ename": "KeyboardInterrupt",
     "evalue": "",
     "output_type": "error",
     "traceback": [
      "\u001b[1;31m---------------------------------------------------------------------------\u001b[0m",
      "\u001b[1;31mKeyboardInterrupt\u001b[0m                         Traceback (most recent call last)",
      "\u001b[1;32m<ipython-input-8-b6d19bf0cf9d>\u001b[0m in \u001b[0;36m<module>\u001b[1;34m\u001b[0m\n\u001b[0;32m      7\u001b[0m     \u001b[0mcount\u001b[0m \u001b[1;33m=\u001b[0m \u001b[0mcount_i\u001b[0m\u001b[1;33m\u001b[0m\u001b[1;33m\u001b[0m\u001b[0m\n\u001b[0;32m      8\u001b[0m     \u001b[0mprint\u001b[0m\u001b[1;33m(\u001b[0m\u001b[0mlink\u001b[0m\u001b[1;33m)\u001b[0m\u001b[1;33m\u001b[0m\u001b[1;33m\u001b[0m\u001b[0m\n\u001b[1;32m----> 9\u001b[1;33m     \u001b[0mreviews\u001b[0m\u001b[1;33m,\u001b[0m\u001b[0mcount_i\u001b[0m \u001b[1;33m=\u001b[0m \u001b[0mget_reviews\u001b[0m\u001b[1;33m(\u001b[0m\u001b[0mlink\u001b[0m\u001b[1;33m,\u001b[0m\u001b[0mcount\u001b[0m\u001b[1;33m)\u001b[0m\u001b[1;33m\u001b[0m\u001b[1;33m\u001b[0m\u001b[0m\n\u001b[0m\u001b[0;32m     10\u001b[0m     \u001b[0mreviews\u001b[0m\u001b[1;33m.\u001b[0m\u001b[0mto_csv\u001b[0m\u001b[1;33m(\u001b[0m\u001b[1;34m'reviews3.csv'\u001b[0m\u001b[1;33m,\u001b[0m \u001b[0mmode\u001b[0m\u001b[1;33m=\u001b[0m\u001b[1;34m'a+'\u001b[0m\u001b[1;33m,\u001b[0m \u001b[0mheader\u001b[0m\u001b[1;33m=\u001b[0m\u001b[1;32mFalse\u001b[0m\u001b[1;33m)\u001b[0m\u001b[1;33m\u001b[0m\u001b[1;33m\u001b[0m\u001b[0m\n",
      "\u001b[1;32m<ipython-input-7-594788cf40b5>\u001b[0m in \u001b[0;36mget_reviews\u001b[1;34m(re_url, count_i)\u001b[0m\n\u001b[0;32m     53\u001b[0m             \u001b[0mreview_info\u001b[0m\u001b[1;33m.\u001b[0m\u001b[0mloc\u001b[0m\u001b[1;33m[\u001b[0m\u001b[0mcount\u001b[0m\u001b[1;33m]\u001b[0m \u001b[1;33m=\u001b[0m \u001b[1;33m[\u001b[0m\u001b[0mbiz_id\u001b[0m\u001b[1;33m,\u001b[0m\u001b[0mre_url\u001b[0m\u001b[1;33m,\u001b[0m\u001b[0muser_id\u001b[0m\u001b[1;33m,\u001b[0m\u001b[0muser_name\u001b[0m\u001b[1;33m,\u001b[0m\u001b[0mfriends\u001b[0m\u001b[1;33m,\u001b[0m\u001b[0mnumber_reviews\u001b[0m\u001b[1;33m,\u001b[0m\u001b[0mphotos\u001b[0m\u001b[1;33m,\u001b[0m\u001b[0marea\u001b[0m\u001b[1;33m,\u001b[0m\u001b[0mdate\u001b[0m\u001b[1;33m,\u001b[0m\u001b[0melite\u001b[0m\u001b[1;33m,\u001b[0m\u001b[0mrating\u001b[0m\u001b[1;33m]\u001b[0m\u001b[1;33m\u001b[0m\u001b[1;33m\u001b[0m\u001b[0m\n\u001b[0;32m     54\u001b[0m             \u001b[0mcount\u001b[0m \u001b[1;33m=\u001b[0m \u001b[0mcount\u001b[0m \u001b[1;33m+\u001b[0m \u001b[1;36m1\u001b[0m\u001b[1;33m\u001b[0m\u001b[1;33m\u001b[0m\u001b[0m\n\u001b[1;32m---> 55\u001b[1;33m             \u001b[0mtime\u001b[0m\u001b[1;33m.\u001b[0m\u001b[0msleep\u001b[0m\u001b[1;33m(\u001b[0m\u001b[0mrandom\u001b[0m\u001b[1;33m.\u001b[0m\u001b[0mrandom\u001b[0m\u001b[1;33m(\u001b[0m\u001b[1;33m)\u001b[0m\u001b[1;33m+\u001b[0m\u001b[1;36m1\u001b[0m\u001b[1;33m)\u001b[0m\u001b[1;33m\u001b[0m\u001b[1;33m\u001b[0m\u001b[0m\n\u001b[0m\u001b[0;32m     56\u001b[0m     \u001b[1;32mreturn\u001b[0m \u001b[0mreview_info\u001b[0m\u001b[1;33m,\u001b[0m\u001b[0mcount\u001b[0m\u001b[1;33m\u001b[0m\u001b[1;33m\u001b[0m\u001b[0m\n",
      "\u001b[1;31mKeyboardInterrupt\u001b[0m: "
     ]
    }
   ],
   "source": [
    "data = pd.read_csv(\"shoplink.csv\",header=None)\n",
    "data.columns = [\"index\",\"biz-name\",\"biz-link\"]\n",
    "data = data.drop([\"index\"],axis=1)\n",
    "count_i = 0\n",
    "for i in range(6,10):\n",
    "    link = data.iloc[i][1]\n",
    "    count = count_i\n",
    "    print(link)\n",
    "    reviews,count_i = get_reviews(link,count)\n",
    "    reviews.to_csv('reviews3.csv', mode='a+', header=False)"
   ]
  },
  {
   "cell_type": "code",
   "execution_count": null,
   "metadata": {},
   "outputs": [],
   "source": []
  }
 ],
 "metadata": {
  "kernelspec": {
   "display_name": "Python 3",
   "language": "python",
   "name": "python3"
  },
  "language_info": {
   "codemirror_mode": {
    "name": "ipython",
    "version": 3
   },
   "file_extension": ".py",
   "mimetype": "text/x-python",
   "name": "python",
   "nbconvert_exporter": "python",
   "pygments_lexer": "ipython3",
   "version": "3.7.6"
  }
 },
 "nbformat": 4,
 "nbformat_minor": 4
}
